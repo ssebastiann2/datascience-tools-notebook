{
  "metadata": {
    "kernelspec": {
      "name": "python",
      "display_name": "Python (Pyodide)",
      "language": "python"
    },
    "language_info": {
      "codemirror_mode": {
        "name": "python",
        "version": 3
      },
      "file_extension": ".py",
      "mimetype": "text/x-python",
      "name": "python",
      "nbconvert_exporter": "python",
      "pygments_lexer": "ipython3",
      "version": "3.8"
    }
  },
  "nbformat_minor": 5,
  "nbformat": 4,
  "cells": [
    {
      "id": "832c2640-be14-4365-a209-88edfb8220a3",
      "cell_type": "markdown",
      "source": "# Data Science Tools and Ecosystem",
      "metadata": {}
    },
    {
      "id": "f2bae405-7ed6-424f-b58c-ab35df9e76bb",
      "cell_type": "markdown",
      "source": "En este cuaderno, se resumen las herramientas y ecosistemas de ciencia de datos.",
      "metadata": {}
    },
    {
      "id": "174c69e7-30c2-46cd-980b-ad01d28a2afd",
      "cell_type": "markdown",
      "source": "**Objetivos:**\n\n- Listar lenguajes populares para Ciencia de Datos  \n- Identificar bibliotecas comunes utilizadas por los científicos de datos  \n- Crear y formatear celdas de markdown y código en Jupyter Notebooks  \n- Realizar operaciones aritméticas básicas en Python  \n- Crear tablas y listas usando markdown",
      "metadata": {}
    },
    {
      "id": "68501e97-e12f-48ec-ba46-2c857fdb51c7",
      "cell_type": "markdown",
      "source": "Algunos de los lenguajes populares que utilizan los científicos de datos son:\n\n1. Python  \n2. R  \n3. SQL  \n4. Julia  \n5. Scala",
      "metadata": {}
    },
    {
      "id": "555c004a-b1fc-43b6-984b-99075e49a213",
      "cell_type": "markdown",
      "source": "Algunas de las bibliotecas comúnmente utilizadas por los científicos de datos incluyen:\n\n1. Pandas  \n2. NumPy  \n3. Matplotlib  \n4. Scikit-learn  \n5. TensorFlow",
      "metadata": {}
    },
    {
      "id": "1b70123d-dc8b-4d63-984c-06672f0e7f22",
      "cell_type": "markdown",
      "source": "| Herramientas de Ciencia de Datos     |\n|-------------------------------------|\n| Jupyter Notebook                    |\n| RStudio                             |\n| Apache Zeppelin                     |",
      "metadata": {}
    },
    {
      "id": "82628cfa-d88d-43c6-be17-74681fa4fc65",
      "cell_type": "markdown",
      "source": "### A continuación, se presentan algunos ejemplos de evaluación de expresiones aritméticas en Python.",
      "metadata": {}
    },
    {
      "id": "03b205cb-d971-4b0b-a544-70c40201e51d",
      "cell_type": "code",
      "source": "# Esta es una expresión aritmética simple para multiplicar y luego sumar enteros.\n(3 * 4) + 5\n\n",
      "metadata": {
        "trusted": true
      },
      "outputs": [
        {
          "execution_count": 2,
          "output_type": "execute_result",
          "data": {
            "text/plain": "17"
          },
          "metadata": {}
        }
      ],
      "execution_count": 2
    },
    {
      "id": "58cb535a-9bdc-4083-bf5a-f1a007617b53",
      "cell_type": "code",
      "source": "# Esto convertirá 200 minutos a horas dividiendo por 60.\n200 / 60",
      "metadata": {
        "trusted": true
      },
      "outputs": [
        {
          "execution_count": 3,
          "output_type": "execute_result",
          "data": {
            "text/plain": "3.3333333333333335"
          },
          "metadata": {}
        }
      ],
      "execution_count": 3
    },
    {
      "id": "24d71d4e-cb4f-4f2b-ab7d-f42cef73907c",
      "cell_type": "markdown",
      "source": "## Autor\n\nSebastian Pastor",
      "metadata": {}
    },
    {
      "id": "e570a70d-4e46-465c-ad88-fd682b2e7a5a",
      "cell_type": "code",
      "source": "",
      "metadata": {
        "trusted": true
      },
      "outputs": [],
      "execution_count": null
    }
  ]
}